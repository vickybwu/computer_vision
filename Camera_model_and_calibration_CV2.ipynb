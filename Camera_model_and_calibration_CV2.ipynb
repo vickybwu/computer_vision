{
  "nbformat": 4,
  "nbformat_minor": 0,
  "metadata": {
    "colab": {
      "name": "Camera model and calibration - CV2.ipynb",
      "provenance": [],
      "collapsed_sections": []
    },
    "kernelspec": {
      "name": "python3",
      "display_name": "Python 3"
    }
  },
  "cells": [
    {
      "cell_type": "markdown",
      "metadata": {
        "id": "YIQuUIBgdU00"
      },
      "source": [
        "## Generate 3D and 2D points, Mint and Mext"
      ]
    },
    {
      "cell_type": "markdown",
      "metadata": {
        "id": "xnOjfEYTI8XM"
      },
      "source": [
        "### Generate 32 points from 2 surfaces on a cube"
      ]
    },
    {
      "cell_type": "code",
      "metadata": {
        "colab": {
          "base_uri": "https://localhost:8080/",
          "height": 248
        },
        "id": "gTv8wIpNS68q",
        "outputId": "3f46fa97-e430-40e5-9414-5527dd7496b6"
      },
      "source": [
        "from mpl_toolkits import mplot3d\n",
        "%matplotlib inline\n",
        "import numpy as np\n",
        "import matplotlib.pyplot as plt\n",
        "\n",
        "\n",
        "cnt = 0\n",
        "P_w = np.zeros((32, 3))\n",
        "#surface Xw=1\n",
        "for i in np.linspace(0.2, 0.8, 4):\n",
        "  for j in np.linspace(0.2, 0.8, 4):\n",
        "    P_w[cnt, :] = np.array([[1, i, j]])\n",
        "    cnt+=1\n",
        "#surface Yw=1\n",
        "for i in np.linspace(0.2, 0.8, 4):\n",
        "  for j in np.linspace(0.2, 0.8, 4):\n",
        "    P_w[cnt, :] = np.array([[i, 1, j]])\n",
        "    cnt+=1\n",
        "\n",
        "x=P_w[:,0]\n",
        "y=P_w[:,1]\n",
        "z=P_w[:,2]\n",
        "colors = [0 for i in range(16)] + [1 for i in range(16)] # Xw=1:purple, Yw=1:yellow\n",
        "fig = plt.figure()\n",
        "ax = fig.add_subplot(111, projection='3d')\n",
        "ax.grid(False)\n",
        "pnt3d=ax.scatter(x,y,z,c=colors)\n",
        "plt.show()"
      ],
      "execution_count": 1,
      "outputs": [
        {
          "output_type": "display_data",
          "data": {
            "image/png": "[encoded data removed]",
            "text/plain": [
              "<Figure size 432x288 with 1 Axes>"
            ]
          },
          "metadata": {
            "tags": [],
            "needs_background": "light"
          }
        }
      ]
    },
    {
      "cell_type": "markdown",
      "metadata": {
        "id": "en0cYyz4Ju-Y"
      },
      "source": [
        "### Extrinsic parameters"
      ]
    },
    {
      "cell_type": "code",
      "metadata": {
        "colab": {
          "base_uri": "https://localhost:8080/"
        },
        "id": "anT1F1S5Jwi1",
        "outputId": "2c163b65-d4ff-42e4-ff82-623b6cbcc325"
      },
      "source": [
        "# Rotation matrix R = RaRbRr\n",
        "alpha = -120*np.pi/180\n",
        "R_alpha = np.array([[1, 0, 0],\n",
        "         [0, np.cos(alpha), -np.sin(alpha)],\n",
        "         [0, np.sin(alpha), np.cos(alpha)]])\n",
        "\n",
        "beta = 0*np.pi/180\n",
        "R_beta = np.array([[np.cos(beta), 0, -np.sin(beta)],\n",
        "         [0, 1, 0],\n",
        "         [np.sin(beta), 0, np.cos(beta)]])\n",
        "\n",
        "gamma = 40*np.pi/180\n",
        "R_gamma = np.array([[np.cos(gamma), -np.sin(gamma), 0],\n",
        "         [np.sin(gamma), np.cos(gamma), 0],\n",
        "         [0, 0, 1]])\n",
        "print(alpha, beta, gamma)\n",
        "R = np.dot(np.dot(R_alpha,R_beta),R_gamma)\n",
        "R"
      ],
      "execution_count": 2,
      "outputs": [
        {
          "output_type": "stream",
          "text": [
            "-2.0943951023931953 0.0 0.6981317007977318\n"
          ],
          "name": "stdout"
        },
        {
          "output_type": "execute_result",
          "data": {
            "text/plain": [
              "array([[ 0.76604444, -0.64278761,  0.        ],\n",
              "       [-0.3213938 , -0.38302222,  0.8660254 ],\n",
              "       [-0.5566704 , -0.66341395, -0.5       ]])"
            ]
          },
          "metadata": {
            "tags": []
          },
          "execution_count": 2
        }
      ]
    },
    {
      "cell_type": "code",
      "metadata": {
        "id": "lw-2pewlCMYs"
      },
      "source": [
        "# Translation matrix\n",
        "Tr = np.array([[0,0,4]]).T\n",
        "Tx, Ty, Tz = Tr"
      ],
      "execution_count": 3,
      "outputs": []
    },
    {
      "cell_type": "markdown",
      "metadata": {
        "id": "dLpCIylk-D0u"
      },
      "source": [
        "### Intrinsic parameters"
      ]
    },
    {
      "cell_type": "code",
      "metadata": {
        "colab": {
          "base_uri": "https://localhost:8080/"
        },
        "id": "hC2eNGBE7406",
        "outputId": "a91c732f-2dca-44b3-bf29-826fef14154e"
      },
      "source": [
        "#focal length\n",
        "f = 0.016;\n",
        "\n",
        "#image center\n",
        "Ox = 256;\n",
        "Oy = 256;\n",
        "\n",
        "#pixel size of image sensor\n",
        "Sx = 0.0088/512.0;\n",
        "Sy = 0.0066/512.0;\n",
        "\n",
        "#effective focal length\n",
        "Fx = f/Sx;\n",
        "Fy = f/Sy;\n",
        "\n",
        "#aspect ratio\n",
        "aspr = Fx/Fy\n",
        "\n",
        "print(Sx, Sy, Fx, Fy, aspr)"
      ],
      "execution_count": 4,
      "outputs": [
        {
          "output_type": "stream",
          "text": [
            "1.71875e-05 1.2890625e-05 930.9090909090909 1241.2121212121212 0.75\n"
          ],
          "name": "stdout"
        }
      ]
    },
    {
      "cell_type": "markdown",
      "metadata": {
        "id": "LsjxwD9Sr8qG"
      },
      "source": [
        "### print all"
      ]
    },
    {
      "cell_type": "code",
      "metadata": {
        "colab": {
          "base_uri": "https://localhost:8080/"
        },
        "id": "JOlb0Y7wr8As",
        "outputId": "cc6268ad-66dc-4919-becd-bb649e094fb3"
      },
      "source": [
        "\n",
        "print('\\nDesigned intrinsic parameters:')\n",
        "print(\"Image center used to estimate is:\", (Ox, Oy))\n",
        "print('\\nFx and Fy:', (Fx, Fy))\n",
        "print('\\nAspect ratio:', aspr)\n",
        "print('\\nDesigned extrinsic parameters:')\n",
        "print('\\nR:', R)\n",
        "print('\\nTx:', Tx)\n",
        "print('\\nTy:', Ty)\n",
        "print('\\nTz:', Tz)\n",
        "print('\\nalpha:', alpha)\n",
        "print('\\nbeta:', beta)\n",
        "print('\\ngamma:', gamma)"
      ],
      "execution_count": 5,
      "outputs": [
        {
          "output_type": "stream",
          "text": [
            "\n",
            "Designed intrinsic parameters:\n",
            "Image center used to estimate is: (256, 256)\n",
            "\n",
            "Fx and Fy: (930.9090909090909, 1241.2121212121212)\n",
            "\n",
            "Aspect ratio: 0.75\n",
            "\n",
            "Designed extrinsic parameters:\n",
            "\n",
            "R: [[ 0.76604444 -0.64278761  0.        ]\n",
            " [-0.3213938  -0.38302222  0.8660254 ]\n",
            " [-0.5566704  -0.66341395 -0.5       ]]\n",
            "\n",
            "Tx: [0]\n",
            "\n",
            "Ty: [0]\n",
            "\n",
            "Tz: [4]\n",
            "\n",
            "alpha: -2.0943951023931953\n",
            "\n",
            "beta: 0.0\n",
            "\n",
            "gamma: 0.6981317007977318\n"
          ],
          "name": "stdout"
        }
      ]
    },
    {
      "cell_type": "markdown",
      "metadata": {
        "id": "k799sdEzBDNC"
      },
      "source": [
        "### Generate 2D points on camera image coordinate"
      ]
    },
    {
      "cell_type": "code",
      "metadata": {
        "colab": {
          "base_uri": "https://localhost:8080/",
          "height": 248
        },
        "id": "dC8N-fio8sP2",
        "outputId": "40886994-9ac3-4703-c5b0-c6cfa701f491"
      },
      "source": [
        "# surface Xw = 1\n",
        "\n",
        "P_c = np.zeros((32,3))\n",
        "p_ = np.zeros((32, 2))\n",
        "p = np.zeros((32,2))\n",
        "\n",
        "\n",
        "for cnt in range(32):\n",
        "  P_c[cnt,:] = (np.resize(np.dot(R,(P_w[cnt].T)), (3,1)) + Tr).T\n",
        "  p_[cnt,:] = np.array([[Ox - np.dot(Fx, P_c[cnt, 0]/P_c[cnt, 2]), Oy - np.dot(Fy, P_c[cnt, 1]/P_c[cnt, 2])]])  \n",
        "  p[cnt,:] = np.array([[Ox - np.dot(Fx, P_c[cnt, 0]/P_c[cnt, 2]) - Ox, Oy - np.dot(Fy, P_c[cnt, 1]/P_c[cnt, 2]) - Oy]])   \n",
        "\n",
        "# plot camera 3D points\n",
        "x=P_c[:,0]\n",
        "y=P_c[:,1]\n",
        "z=P_c[:,2]\n",
        "colors = [0 for i in range(16)] + [1 for i in range(16)] # Xw=1:purple, Yw=1:yellow\n",
        "fig_3 = plt.figure()\n",
        "ax = fig_3.add_subplot(111, projection='3d')\n",
        "ax.grid(False)\n",
        "pnt3d=ax.scatter(x,y,z,c=colors)\n",
        "plt.show()"
      ],
      "execution_count": 6,
      "outputs": [
        {
          "output_type": "display_data",
          "data": {
            "image/png": "[encoded data removed]",
            "text/plain": [
              "<Figure size 432x288 with 1 Axes>"
            ]
          },
          "metadata": {
            "tags": [],
            "needs_background": "light"
          }
        }
      ]
    },
    {
      "cell_type": "code",
      "metadata": {
        "colab": {
          "base_uri": "https://localhost:8080/",
          "height": 265
        },
        "id": "vyDYRXubgoDG",
        "outputId": "64ba853f-a6e8-476c-816c-260afef777fd"
      },
      "source": [
        "#plot 2d points in camera coordinate system\n",
        "colors = [0 for i in range(16)] + [1 for i in range(16)]\n",
        "fig_2d = plt.scatter(p_[:, 0], p_[:, 1], c = colors)\n",
        "plt.show()"
      ],
      "execution_count": 7,
      "outputs": [
        {
          "output_type": "display_data",
          "data": {
            "image/png": "[encoded data removed]",
            "text/plain": [
              "<Figure size 432x288 with 1 Axes>"
            ]
          },
          "metadata": {
            "tags": [],
            "needs_background": "light"
          }
        }
      ]
    },
    {
      "cell_type": "markdown",
      "metadata": {
        "id": "GiqFd6Owdb1q"
      },
      "source": [
        "## Camera Calibration Algorithm - Estimate camera parameters"
      ]
    },
    {
      "cell_type": "code",
      "metadata": {
        "id": "C-yIARCKv-pz"
      },
      "source": [
        "from numpy import linalg\n",
        "import math\n",
        "\n",
        "class CameraCalibration:\n",
        "  def __init__(self, p, P_w):\n",
        "    self.p = p\n",
        "    self.P_w = P_w\n",
        "    self.x, self.X, self.y, self.Y, self.Z = self.p[:,0], self.P_w[:,0], self.p[:,1], self.P_w[:,1], self.P_w[:,2]\n",
        "    self.A = np.zeros((32,8))\n",
        "    self.A[:, 0] = np.array([self.x[i]*self.X[i] for i in range(32)]).T\n",
        "    self.A[:, 1] = np.array([self.x[i]*self.Y[i] for i in range(32)]).T\n",
        "    self.A[:, 2] = np.array([self.x[i]*self.Z[i] for i in range(32)]).T\n",
        "    self.A[:, 3] = np.array([self.x[i] for i in range(32)]).T\n",
        "    self.A[:, 4] = np.array([-self.y[i]*self.X[i] for i in range(32)]).T\n",
        "    self.A[:, 5] = np.array([-self.y[i]*self.Y[i] for i in range(32)]).T\n",
        "    self.A[:, 6] = np.array([-self.y[i]*self.Z[i] for i in range(32)]).T\n",
        "    self.A[:, 7] = np.array([-self.y[i] for i in range(32)]).T\n",
        "\n",
        "    self.solution_v = None\n",
        "\n",
        "\n",
        "  def solution_vector(self):\n",
        "    U, lambdas, V = linalg.svd(self.A)\n",
        "    self.solution_v = V[-1,:]\n",
        "    return self.solution_v\n",
        "\n",
        "  def scale_factor_aspr(self):\n",
        "    scale_factor = np.sqrt(self.solution_v[0]**2 + self.solution_v[1]**2 + self.solution_v[2]**2) #absolute value\n",
        "    aspr = np.sqrt(self.solution_v[4]**2 + self.solution_v[5]**2 + self.solution_v[6]**2)/scale_factor\n",
        "    return scale_factor, aspr\n",
        "\n",
        "  def Tx_Ty(self, scale_factor, aspr):\n",
        "    self.solution_v = self.solution_v/scale_factor\n",
        "    Ty = self.solution_v[3]\n",
        "    Tx = self.solution_v[-1]/aspr\n",
        "    return Tx, Ty\n",
        "\n",
        "  def R_matrix(self, aspr, R = None, Tx = None, sign = None):\n",
        "    if sign == None:\n",
        "      s = 1\n",
        "    else:\n",
        "      s = sign #assume it's a positive sign first\n",
        "    R = np.zeros((3,3))\n",
        "    r11, r12, r13 = [s*self.solution_v[i]/aspr for i in range(4,7)]\n",
        "    r21, r22, r23 = [s*self.solution_v[i] for i in range(0,3)]\n",
        "    R_1 = np.array([[r11, r12, r13]])\n",
        "    R_2 = np.array([[r21, r22, r23]])\n",
        "    R_3 = np.cross(s*R_1, s*R_2)\n",
        "    r31, r32, r33 = [value for value in R_3[0]]\n",
        "    R[0, :] = R_1\n",
        "    R[1, :] = R_2\n",
        "    R[2, :] = R_3\n",
        "    # Enforece orthogonal constraint - Use SVD of estimate R \n",
        "    U, D, V = np.linalg.svd(R)\n",
        "    R = U.dot(np.diag(D)).dot(V.T)\n",
        "    return R\n",
        "\n",
        "  def determine_sign(self, R, Tx):\n",
        "    self.X = R[0,:].dot(self.P_w[0]) + Tx\n",
        "    if np.sign(self.p[0][0]) != np.sign(self.X):\n",
        "      s = -1\n",
        "    else:\n",
        "      s = 1\n",
        "    self.solution_v = s*self.solution_v\n",
        "    return s\n",
        "\n",
        "  def R_angles(self, R):\n",
        "  #Estimate alpha beta and gamma of R matrix\n",
        "    gamma = math.atan2(-R[0][1], R[0][0])\n",
        "    beta = math.atan2(R[0][2], np.sqrt(R[0][1]**2 + R[0][0]**2))\n",
        "    alpha = math.atan2(-R[1][2], R[2][2])\n",
        "    return alpha, beta, gamma\n",
        "\n",
        "  def Tz_fx(self, R, Tx):\n",
        "    #calculate right side\n",
        "    ai2 = [sum(row) for row in R[0,:]*self.P_w + Tx]\n",
        "    ai1 = self.p[:, 0].tolist()\n",
        "    A_2 = np.array([ai1, ai2]).T\n",
        "    bi = np.array([sum(row) for row in R[2,:]*self.P_w])\n",
        "    b = -np.array(ai1) * bi\n",
        "    right = np.dot(A_2.T, b)\n",
        "    #calculate left side\n",
        "    A_3 = A_2.T.dot(A_2)\n",
        "    U_2, lambdas_2, V_2 = np.linalg.svd(A_3)\n",
        "    left = np.dot(np.dot(V_2.T, np.linalg.inv(np.diag(lambdas_2))), U_2.T)\n",
        "    #calculate Tz and effective focal length fx\n",
        "    Tz_fx = np.dot(left, right)\n",
        "    return Tz_fx[0], Tz_fx[1]\n"
      ],
      "execution_count": 59,
      "outputs": []
    },
    {
      "cell_type": "code",
      "metadata": {
        "id": "7_rZCzI3DMl6"
      },
      "source": [
        "my_results = CameraCalibration(p, P_w)\n",
        "A_matrix = my_results.A\n",
        "solution_vector = my_results.solution_vector()\n",
        "sf, aspr = my_results.scale_factor_aspr()\n",
        "Tx, Ty = my_results.Tx_Ty(sf, aspr)\n",
        "initial_R = my_results.R_matrix(aspr, R = None, Tx = None, sign = None)\n",
        "sign = my_results.determine_sign(initial_R, Tx)\n",
        "updated_R = my_results.R_matrix(aspr, R = initial_R, Tx = Tx, sign = sign)\n",
        "alpha, beta, gamme = my_results.R_angles(updated_R)\n",
        "Tz, fx = my_results.Tz_fx(updated_R, Tx)\n",
        "fy = fx/aspr"
      ],
      "execution_count": 61,
      "outputs": []
    },
    {
      "cell_type": "markdown",
      "metadata": {
        "id": "RyKwLMvq8UNw"
      },
      "source": [
        "## Print all results "
      ]
    },
    {
      "cell_type": "code",
      "metadata": {
        "colab": {
          "base_uri": "https://localhost:8080/"
        },
        "id": "2TLfTwDs8XAV",
        "outputId": "f2275873-0fbd-4f36-d00e-e503d8121bac"
      },
      "source": [
        "print('\\nEstimated intrinsic parameters:')\n",
        "print(\"Known image center used to estimate is:\", (Ox, Oy))\n",
        "print('\\nFx and Fy:', (fx, fy))\n",
        "print('\\nAspect ratio:', aspr)\n",
        "print('\\nEstimated extrinsic parameters:')\n",
        "print('\\nR:', updated_R)\n",
        "print('\\nTx:', Tx)\n",
        "print('\\nTy:', Ty)\n",
        "print('\\nTz:', Tz)\n",
        "print('\\nalpha:', alpha)\n",
        "print('\\nbeta:', beta)\n",
        "print('\\ngamma:', gamma)"
      ],
      "execution_count": 62,
      "outputs": [
        {
          "output_type": "stream",
          "text": [
            "\n",
            "Estimated intrinsic parameters:\n",
            "Known image center used to estimate is: (256, 256)\n",
            "\n",
            "Fx and Fy: (32.13222120808736, 42.842961610783206)\n",
            "\n",
            "Aspect ratio: 0.7499999999999989\n",
            "\n",
            "Estimated extrinsic parameters:\n",
            "\n",
            "R: [[-7.66044443e-01 -6.42787610e-01 -1.04405412e-16]\n",
            " [ 3.21393805e-01 -3.83022222e-01  8.66025404e-01]\n",
            " [-5.56670399e-01  6.63413948e-01  5.00000000e-01]]\n",
            "\n",
            "Tx: 1.1000297330811479e-16\n",
            "\n",
            "Ty: -1.687196700334526e-15\n",
            "\n",
            "Tz: -0.2782896252505923\n",
            "\n",
            "alpha: -1.0471975511965963\n",
            "\n",
            "beta: -1.0440541215798755e-16\n",
            "\n",
            "gamma: 0.6981317007977318\n"
          ],
          "name": "stdout"
        }
      ]
    }
  ]
}